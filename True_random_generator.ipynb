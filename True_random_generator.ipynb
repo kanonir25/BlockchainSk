{
 "cells": [
  {
   "cell_type": "code",
   "execution_count": 88,
   "metadata": {},
   "outputs": [],
   "source": [
    "from scipy.io import wavfile\n",
    "import numpy as np\n",
    "from matplotlib import pyplot as plt\n",
    "from IPython.display import Audio\n",
    "import bitstring\n",
    "import sounddevice as sd\n",
    "from collections import Counter\n",
    "from time import time\n",
    "# from sound_recorder import \n",
    "\n",
    "%matplotlib inline"
   ]
  },
  {
   "cell_type": "code",
   "execution_count": 71,
   "metadata": {},
   "outputs": [
    {
     "name": "stdout",
     "output_type": "stream",
     "text": [
      "Audio shape= (220160, 2)\n"
     ]
    },
    {
     "data": {
      "text/plain": [
       "<matplotlib.text.Text at 0x7f657beecf60>"
      ]
     },
     "execution_count": 71,
     "metadata": {},
     "output_type": "execute_result"
    },
    {
     "data": {
      "image/png": "[encoded data removed]",
      "text/plain": [
       "<matplotlib.figure.Figure at 0x7f657bf3a588>"
      ]
     },
     "metadata": {
      "needs_background": "light"
     },
     "output_type": "display_data"
    }
   ],
   "source": [
    "rate, audio = wavfile.read('file2.wav')\n",
    "mono_audio = audio[:, 0]\n",
    "print(f'Audio shape= {audio.shape}')\n",
    "step = abs(max(mono_audio.min(), mono_audio.max(), key=abs))\n",
    "mono_audio = np.array((mono_audio + step) / 2 / np.max(mono_audio) * 256, dtype=np.int16)\n",
    "plt.plot(mono_audio[15000::10])\n",
    "plt.xlabel('Sample number')\n",
    "plt.ylabel('Sample value')\n",
    "plt.title('Audio sampling with 15000 skipped samples')"
   ]
  },
  {
   "cell_type": "code",
   "execution_count": 49,
   "metadata": {},
   "outputs": [],
   "source": [
    "ALPHA = 1.99999\n",
    "x_0 = np.array([0.141592, 0.653589,0.793238, 0.462643, 0.383279,0.502884, 0.197169, 0.399375], dtype=np.float64)\n",
    "\n",
    "def tent_map(x):\n",
    "    if x < 0.5:\n",
    "        return ALPHA*x\n",
    "    return ALPHA*(1-x)\n",
    "\n",
    "def swap_bits(x):\n",
    "    first_part = str(x[: 32])\n",
    "    second_part = str(x[32:])\n",
    "    return second_part + first_part\n",
    "    \n",
    "def to_size_sample(data, size):\n",
    "    parts = len(data)*256 // size\n",
    "    huge_str = ''.join(data)\n",
    "    return [huge_str[i*size:(i+1)*size] for i in range(parts)]\n",
    "\n",
    "def calc_entropy(x):\n",
    "    sample = to_size_sample(x, 8)\n",
    "    cnt = Counter()\n",
    "    for word in sample:\n",
    "        cnt[word] += 1\n",
    "    amount = sum(cnt.values())- cnt['']\n",
    "    H = 0\n",
    "    for val in cnt.values():\n",
    "        if val == cnt['']:\n",
    "            continue\n",
    "        H -= val / amount * np.log2(val/amount)\n",
    "    \n",
    "        \n",
    "    return H / 8\n",
    "\n",
    "def TRNG(audio_sample, RN_size, CCML_size=8, x_0=x_0, entropy_mode=False):\n",
    "    \"\"\"\n",
    "    audio_sample: audio sample, A in article\n",
    "    RN_size: size of requiered random number (size divided on 256??), N in article\n",
    "    CCML_size: size of CMML (???) L in article\n",
    "    x_0: FP values\n",
    "    \"\"\"\n",
    "    L = CCML_size\n",
    "    \n",
    "    gamma = L // 2\n",
    "    n =  RN_size * L\n",
    "    eps = 0.05\n",
    "    transient_effect_bits = 15000\n",
    "    audio_samples = audio_sample[transient_effect_bits:transient_effect_bits+n] # cut samples as in article to \"eliminate the transient effect\"\n",
    "    \n",
    "    # extraction of 3 LSB:\n",
    "    mask = 0b00000111 # mask to extract 3 last bits\n",
    "    audio_samples = [sample & mask for sample in audio_samples] # r^i in article\n",
    "    \n",
    "    \n",
    "    x_next_t = x_0[:]\n",
    "    x_cur_t = x_next_t[:]\n",
    "    z = [0]*L\n",
    "\n",
    "    output_number = [] # output number as array of bits, O in article\n",
    "    c = 0\n",
    "    \n",
    "    while len(output_number) < RN_size:\n",
    "        \n",
    "        for i in range(L):\n",
    "            x_cur_t[i] = ((0.071428571 * audio_samples[c*100%len(audio_samples)]) + x_cur_t[i]) * 0.666666667\n",
    "            c += 1\n",
    "            \n",
    "        for t in range(gamma):\n",
    "            for i in range(L):\n",
    "                x_next_t[i] = (1-eps)*tent_map(x_cur_t[i]) + eps / 2 * (tent_map(x_cur_t[(i+1)%L]) + tent_map(x_cur_t[(i-1)%L]))\n",
    "        for i in range(L):\n",
    "            z[i] = bitstring.BitArray(float=x_cur_t[i], length=64).bin\n",
    "            \n",
    "        for  i in range(gamma - 1):\n",
    "            z[i] = bin(int(z[i], 2) ^ int(swap_bits(z[i + gamma]),2))[2:]\n",
    "        \n",
    "        output_number.append(''.join(map(str, z[0] + z[1] + z[2] + z[3])))\n",
    "        \n",
    "        if entropy_mode:\n",
    "            x_cur_t = x_0[:]\n",
    "    return output_number\n"
   ]
  },
  {
   "cell_type": "code",
   "execution_count": 72,
   "metadata": {},
   "outputs": [
    {
     "name": "stdout",
     "output_type": "stream",
     "text": [
      "8.034599542617798\n"
     ]
    }
   ],
   "source": [
    "begin = time()\n",
    "res = TRNG(audio_sample=mono_audio, RN_size=32768, entropy_mode=False)\n",
    "print(time() - begin)"
   ]
  },
  {
   "cell_type": "code",
   "execution_count": 73,
   "metadata": {},
   "outputs": [],
   "source": [
    "with open('to_test.bin', 'w') as f:\n",
    "    for i in range(len(res)):\n",
    "        if len(res[i]) == 0:\n",
    "            break\n",
    "        f.write(f'{res[i]}\\n')\n",
    "##To diehard tests\n",
    "#!./script.sh"
   ]
  },
  {
   "cell_type": "code",
   "execution_count": 83,
   "metadata": {
    "scrolled": false
   },
   "outputs": [
    {
     "data": {
      "text/plain": [
       "['110011100100110011110001101001010101110101110010001001100100110100001010111000100100100110111011111011100001111001000101000101111111000000001000010101010011110110011001110011101011011110110011111111101110101010101001010111000110001101000001111000011011',\n",
       " '101100101101110110011110101111011011101100010000100111110011010111110111111011000110001010011011001010100100010110111000001101101011001101010000010100110100111111100101010011001110101100100011111111001110001100110111101100001001010100000001100101110001',\n",
       " '111000011101000011011011011011101010111010011010110110100011111111000111010111111111110000000110111001000110101011001110000010111010100001111010010010010011111010011111101100001110000101001010011111111010101011000011100000010101101111010010110011000101001']"
      ]
     },
     "execution_count": 83,
     "metadata": {},
     "output_type": "execute_result"
    }
   ],
   "source": [
    "res[:3]"
   ]
  },
  {
   "cell_type": "code",
   "execution_count": 82,
   "metadata": {},
   "outputs": [
    {
     "name": "stdout",
     "output_type": "stream",
     "text": [
      "rate of 0: 0.4828348962757061,\n",
      "rate of 1: 0.5171651037242939\n",
      "P-value: 98.84365466736371\n"
     ]
    }
   ],
   "source": [
    "count0 = 0\n",
    "count1 = 0\n",
    "for i in range(len(res)):\n",
    "    count0 += res[i].count('0')\n",
    "    count1 += res[i].count('1')\n",
    "print(f'rate of 0: {count0 / (count0 + count1)},\\nrate of 1: {count1 / (count0 + count1)}')\n",
    "print(f\"P-value: {(count1 - count0) / np.sqrt(count0+count1)}\")"
   ]
  },
  {
   "cell_type": "code",
   "execution_count": 84,
   "metadata": {},
   "outputs": [
    {
     "name": "stdout",
     "output_type": "stream",
     "text": [
      "Entropy: 0.9977827585129562\n"
     ]
    }
   ],
   "source": [
    "size= 8\n",
    "byte_blocks=to_size_sample(res, size)\n",
    "entropy=calc_entropy(byte_blocks)\n",
    "print(f'Entropy: {entropy}')\n"
   ]
  },
  {
   "cell_type": "code",
   "execution_count": 85,
   "metadata": {},
   "outputs": [
    {
     "name": "stdout",
     "output_type": "stream",
     "text": [
      "Speed performance: 1.0889843996246729 Mbit/s\n"
     ]
    }
   ],
   "source": [
    "begin = time()\n",
    "res_nibble = TRNG(audio_sample=mono_audio, RN_size=1000000//256)\n",
    "print(f'Speed performance: {1/(time() - begin)} Mbit/s')"
   ]
  },
  {
   "cell_type": "code",
   "execution_count": 86,
   "metadata": {},
   "outputs": [],
   "source": [
    "def histogram(nibble):\n",
    "    sample = to_size_sample(nibble, 4)\n",
    "    cnt = Counter()\n",
    "    for word in sample:\n",
    "        cnt[word] += 1\n",
    "    vals = [(int(key, 2), int(val)) for key,val in cnt.items() if len(key) == 4]\n",
    "    return vals"
   ]
  },
  {
   "cell_type": "code",
   "execution_count": 87,
   "metadata": {
    "scrolled": true
   },
   "outputs": [
    {
     "data": {
      "image/png": "[encoded data removed]",
      "text/plain": [
       "<matplotlib.figure.Figure at 0x7f657bee3860>"
      ]
     },
     "metadata": {
      "needs_background": "light"
     },
     "output_type": "display_data"
    }
   ],
   "source": [
    "ax = plt.gca()\n",
    "g = np.array(histogram(res_nibble))\n",
    "g = np.array(sorted(g, key=lambda x: x[0]))\n",
    "ax.bar(g[:, 0][:-1], g[:, 1][:-1], align='edge')\n",
    "plt.ylabel('Number of hits')\n",
    "plt.xlabel('Nibble values')\n",
    "xval = [hex(i)[2:].upper() for i in range(15)]\n",
    "plt.xticks(g[:,0][:-1], xval)\n",
    "plt.show()"
   ]
  },
  {
   "cell_type": "code",
   "execution_count": 90,
   "metadata": {},
   "outputs": [
    {
     "name": "stdout",
     "output_type": "stream",
     "text": [
      "6.220045328140259\n"
     ]
    }
   ],
   "source": [
    "# simulated signals (0,0, ...), (1,0, ...) \n",
    "def sense_prod(x1, x2):\n",
    "    xor = [int(x1[i], 2)^int(x2[i], 2) for i in range(len(x1)) if x1[i] and x2[i]]\n",
    "    bit_xor = list(map(lambda x: bin(x)[2:], xor))\n",
    "    return bit_xor\n",
    "\n",
    "begin = time()\n",
    "RN_size= 4000000//256\n",
    "sens_aud = [0]*RN_size\n",
    "sens_aud2 = sens_aud[:]\n",
    "sens_aud2[0] = 1\n",
    "res_sens = TRNG(audio_sample=sens_aud, RN_size=RN_size, entropy_mode=True)\n",
    "res_sens2 = TRNG(audio_sample=sens_aud2, RN_size=RN_size, entropy_mode=True)\n",
    "print(time() - begin)"
   ]
  },
  {
   "cell_type": "code",
   "execution_count": 91,
   "metadata": {},
   "outputs": [
    {
     "name": "stdout",
     "output_type": "stream",
     "text": [
      "Sensitive entropy: 0.9946851769929416\n"
     ]
    }
   ],
   "source": [
    "xor_blocks =sense_prod(res_sens, res_sens2)\n",
    "sens_entropy = calc_entropy(xor_blocks)\n",
    "print(f'Sensitive entropy: {sens_entropy}')"
   ]
  },
  {
   "cell_type": "code",
   "execution_count": null,
   "metadata": {},
   "outputs": [],
   "source": []
  }
 ],
 "metadata": {
  "kernelspec": {
   "display_name": "Python 3",
   "language": "python",
   "name": "python3"
  },
  "language_info": {
   "codemirror_mode": {
    "name": "ipython",
    "version": 3
   },
   "file_extension": ".py",
   "mimetype": "text/x-python",
   "name": "python",
   "nbconvert_exporter": "python",
   "pygments_lexer": "ipython3",
   "version": "3.6.6"
  }
 },
 "nbformat": 4,
 "nbformat_minor": 2
}
